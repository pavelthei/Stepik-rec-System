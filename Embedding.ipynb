{
 "cells": [
  {
   "cell_type": "code",
   "execution_count": 244,
   "metadata": {},
   "outputs": [
    {
     "name": "stderr",
     "output_type": "stream",
     "text": [
      "[nltk_data] Downloading package stopwords to C:\\Users\\Pavel The\n",
      "[nltk_data]     I\\AppData\\Roaming\\nltk_data...\n",
      "[nltk_data]   Package stopwords is already up-to-date!\n"
     ]
    }
   ],
   "source": [
    "# import modules\n",
    "import psycopg2\n",
    "import pandas as pd\n",
    "import re\n",
    "import pymystem3\n",
    "from pymystem3 import Mystem\n",
    "from tqdm import tqdm\n",
    "import nltk\n",
    "nltk.download('stopwords')\n",
    "import json\n",
    "from nltk.corpus import stopwords\n",
    "import gensim\n",
    "from gensim.models.word2vec import Word2Vec\n",
    "import numpy as np"
   ]
  },
  {
   "cell_type": "code",
   "execution_count": 245,
   "metadata": {},
   "outputs": [],
   "source": [
    "# getting data\n",
    "#### Notebook to generate clusters\n",
    "conn = psycopg2.connect(\n",
    "    host='stepik-bd.c2hf8kenf8dw.us-east-1.rds.amazonaws.com',\n",
    "    user='stepik_master',\n",
    "    password='Stepikpa$$word',\n",
    "    database='stepik_api')\n",
    "\n",
    "query = \"SELECT id, title FROM courses\"\n",
    "data = pd.read_sql(query, con=conn)\n",
    "conn.close()"
   ]
  },
  {
   "cell_type": "code",
   "execution_count": 246,
   "metadata": {},
   "outputs": [],
   "source": [
    "# remove the garbage\n",
    "data.title = data.title.apply(lambda x: \" \".join(re.sub(\"[^A-Za-z0-9а-яА-Я+#ёЁйЙ -]+\", \" \", re.sub(\"<(.*?)>\", \"\", x.lower())).split()))"
   ]
  },
  {
   "cell_type": "code",
   "execution_count": 247,
   "metadata": {},
   "outputs": [
    {
     "name": "stderr",
     "output_type": "stream",
     "text": [
      "100%|██████████████████████████████████████████████████████████████████████████████| 1110/1110 [15:50<00:00,  1.17it/s]\n"
     ]
    }
   ],
   "source": [
    "# lemmatizing titles\n",
    "def lemmatize_words(string):\n",
    "    m = Mystem()\n",
    "    return ' '.join(m.lemmatize(string))\n",
    "\n",
    "data['text_lem'] = None\n",
    "for ind in tqdm(data.index):\n",
    "    data.loc[ind, 'text_lem'] = lemmatize_words(data.loc[ind, 'title'])"
   ]
  },
  {
   "cell_type": "code",
   "execution_count": 249,
   "metadata": {},
   "outputs": [],
   "source": [
    "#data = pd.read_csv('data_lem_title_full.csv')\n",
    "data.to_csv('data_lem_title_full.csv', index=False)"
   ]
  },
  {
   "cell_type": "code",
   "execution_count": 250,
   "metadata": {},
   "outputs": [],
   "source": [
    "# killing stop-words\n",
    "def kill_stop_words(string):\n",
    "    with open('stopwords-ru.json', 'r', encoding='utf-8') as read_file:\n",
    "        stop_words = json.loads(read_file.read())\n",
    "    \n",
    "    stop_words.extend([\"will\",\"основной\",\"весь\",\"мочь\", \"type\",\"types\",\"тип\", \"can\", \"com\", \"это\",\"тест\",\"наш\",\"каждый\",\"курс\",\"http\",\"https\",\"язык\",\"org\",\"свой\",\"задача\",\"course\",\"также\",\"урок\",\"работа\",\"тема\",\"stepik\",\"модуль\",\"задание\",\"который\", '\\n', \"язык\"])\n",
    "    stop_words.extend(list(stopwords.words('english')))\n",
    "    anti_stop = [wrd for wrd in str(string).split() if wrd not in stop_words]\n",
    "    return ' '.join(anti_stop)\n",
    "\n",
    "data['title_lem'] = data.text_lem.apply(kill_stop_words)"
   ]
  },
  {
   "cell_type": "code",
   "execution_count": 251,
   "metadata": {},
   "outputs": [],
   "source": [
    "data.title_lem = data.title_lem.apply(lambda x: \" \".join(re.sub(\"[^A-Za-z3а-яА-Я+#ёЁйЙ -]+\", \" \", re.sub(\"<(.*?)>\", \"\", x.lower())).split()))"
   ]
  },
  {
   "cell_type": "code",
   "execution_count": 252,
   "metadata": {},
   "outputs": [
    {
     "name": "stderr",
     "output_type": "stream",
     "text": [
      "Warning : `load_model` does not return WordVectorModel or SupervisedModel any more, but a `FastText` object which is very similar.\n"
     ]
    }
   ],
   "source": [
    "#model\n",
    "import fasttext\n",
    "import fasttext.util\n",
    "ft = fasttext.load_model('cc.ru.300.bin')"
   ]
  },
  {
   "cell_type": "code",
   "execution_count": 253,
   "metadata": {},
   "outputs": [],
   "source": [
    "def text_to_vector(string):\n",
    "    list_wrds = string.split()\n",
    "    var = list()\n",
    "    for wrd in list_wrds:\n",
    "        var.append(ft.get_word_vector(wrd))\n",
    "    return np.mean(np.array(var), axis=0)"
   ]
  },
  {
   "cell_type": "code",
   "execution_count": 254,
   "metadata": {},
   "outputs": [],
   "source": [
    "title_vecs = data.title_lem.apply(text_to_vector)"
   ]
  },
  {
   "cell_type": "code",
   "execution_count": 266,
   "metadata": {},
   "outputs": [],
   "source": [
    "data_vecs = pd.DataFrame(data['id']).join(title_vecs).dropna()\n",
    "data_vecs.columns = ['id', 'vecs']"
   ]
  },
  {
   "cell_type": "code",
   "execution_count": 269,
   "metadata": {},
   "outputs": [
    {
     "data": {
      "text/html": [
       "<div>\n",
       "<style scoped>\n",
       "    .dataframe tbody tr th:only-of-type {\n",
       "        vertical-align: middle;\n",
       "    }\n",
       "\n",
       "    .dataframe tbody tr th {\n",
       "        vertical-align: top;\n",
       "    }\n",
       "\n",
       "    .dataframe thead th {\n",
       "        text-align: right;\n",
       "    }\n",
       "</style>\n",
       "<table border=\"1\" class=\"dataframe\">\n",
       "  <thead>\n",
       "    <tr style=\"text-align: right;\">\n",
       "      <th></th>\n",
       "      <th>id</th>\n",
       "      <th>title_lem</th>\n",
       "      <th>title</th>\n",
       "    </tr>\n",
       "  </thead>\n",
       "  <tbody>\n",
       "    <tr>\n",
       "      <td>0</td>\n",
       "      <td>71155</td>\n",
       "      <td>обучение наставник</td>\n",
       "      <td>обучение наставников</td>\n",
       "    </tr>\n",
       "    <tr>\n",
       "      <td>1</td>\n",
       "      <td>70810</td>\n",
       "      <td>формула образование школа ученик родитель учитель</td>\n",
       "      <td>формула образования школа ученик родитель учитель</td>\n",
       "    </tr>\n",
       "    <tr>\n",
       "      <td>2</td>\n",
       "      <td>70727</td>\n",
       "      <td>егэ нормальный вариант</td>\n",
       "      <td>егэ по русскому нормальные варианты</td>\n",
       "    </tr>\n",
       "    <tr>\n",
       "      <td>3</td>\n",
       "      <td>70710</td>\n",
       "      <td>свободный погружение субд</td>\n",
       "      <td>свободное погружение в субд</td>\n",
       "    </tr>\n",
       "    <tr>\n",
       "      <td>4</td>\n",
       "      <td>70581</td>\n",
       "      <td>набирать адаптировать команда удаленщик отдел ...</td>\n",
       "      <td>как набрать и адаптировать команду удаленщиков...</td>\n",
       "    </tr>\n",
       "    <tr>\n",
       "      <td>...</td>\n",
       "      <td>...</td>\n",
       "      <td>...</td>\n",
       "      <td>...</td>\n",
       "    </tr>\n",
       "    <tr>\n",
       "      <td>1105</td>\n",
       "      <td>71439</td>\n",
       "      <td>машинный обучение управление проект преподаватель</td>\n",
       "      <td>машинное обучение и управление проектами в it ...</td>\n",
       "    </tr>\n",
       "    <tr>\n",
       "      <td>1106</td>\n",
       "      <td>68789</td>\n",
       "      <td>алгоритмика класс</td>\n",
       "      <td>алгоритмика 5 класс</td>\n",
       "    </tr>\n",
       "    <tr>\n",
       "      <td>1107</td>\n",
       "      <td>67676</td>\n",
       "      <td>биология класс</td>\n",
       "      <td>биология 7 класс</td>\n",
       "    </tr>\n",
       "    <tr>\n",
       "      <td>1108</td>\n",
       "      <td>58873</td>\n",
       "      <td>основа компьютерный сеть</td>\n",
       "      <td>основы компьютерных сетей</td>\n",
       "    </tr>\n",
       "    <tr>\n",
       "      <td>1109</td>\n",
       "      <td>51900</td>\n",
       "      <td>введение ios - разработка</td>\n",
       "      <td>курс 1 введение в ios-разработку</td>\n",
       "    </tr>\n",
       "  </tbody>\n",
       "</table>\n",
       "<p>1110 rows × 3 columns</p>\n",
       "</div>"
      ],
      "text/plain": [
       "         id                                          title_lem  \\\n",
       "0     71155                                 обучение наставник   \n",
       "1     70810  формула образование школа ученик родитель учитель   \n",
       "2     70727                             егэ нормальный вариант   \n",
       "3     70710                          свободный погружение субд   \n",
       "4     70581  набирать адаптировать команда удаленщик отдел ...   \n",
       "...     ...                                                ...   \n",
       "1105  71439  машинный обучение управление проект преподаватель   \n",
       "1106  68789                                  алгоритмика класс   \n",
       "1107  67676                                     биология класс   \n",
       "1108  58873                           основа компьютерный сеть   \n",
       "1109  51900                          введение ios - разработка   \n",
       "\n",
       "                                                  title  \n",
       "0                                  обучение наставников  \n",
       "1     формула образования школа ученик родитель учитель  \n",
       "2                   егэ по русскому нормальные варианты  \n",
       "3                           свободное погружение в субд  \n",
       "4     как набрать и адаптировать команду удаленщиков...  \n",
       "...                                                 ...  \n",
       "1105  машинное обучение и управление проектами в it ...  \n",
       "1106                                алгоритмика 5 класс  \n",
       "1107                                   биология 7 класс  \n",
       "1108                          основы компьютерных сетей  \n",
       "1109                   курс 1 введение в ios-разработку  \n",
       "\n",
       "[1110 rows x 3 columns]"
      ]
     },
     "execution_count": 269,
     "metadata": {},
     "output_type": "execute_result"
    }
   ],
   "source": [
    "data[['id', 'title_lem', 'title']]"
   ]
  },
  {
   "cell_type": "code",
   "execution_count": 277,
   "metadata": {},
   "outputs": [],
   "source": [
    "data_vecs = data_vecs.merge(data[['id', 'title_lem', 'title']], on='id')"
   ]
  },
  {
   "cell_type": "code",
   "execution_count": 377,
   "metadata": {},
   "outputs": [],
   "source": [
    "keys = {\n",
    "    \"программирование\": ['python', 'java', 'javascript', 'kotlin', 'scala', 'c++', 'git', 'linux', 'программирование', 'php', 'web', 'it', 'ai', 'субд', 'r', 'алгоритм', \"дискретный\", \"computer\", \"programming\", 'scala', 'sql', \"deep\", \"ironpython\", \"android\", \"ios\", \"swift\", \"многопоточность\", \"unix\", \"codewars\", \"разработка\", \"c#\", \"game\", \"software\"],\n",
    "    \"web\": [\"html\", \"css\", \"javascript\", \"web\", \"php\", \"unix\", \"frontend\", \"интернет\", \"flask\", \"django\", \"веб\"],\n",
    "    \"бд\": [\"sql\", \"субд\", \"hadoop\", \"данные\", \"vr\"],\n",
    "    \"3d\": [\"3d\", \"3д\", \"компас\", \"blender\", \"трехмерный\", \"unity\"],\n",
    "    \"статистика\": [\"машинный\", \"статистика\", \"r\", \"вероятность\", \"матиматический\", \"данные\", \"data\", \"нейронный\", \"excel\", \"deep\", \"tableu\", \"распределение\", \"probability\"],\n",
    "    \"математика\": [\"дискретный\", \"математика\", \"алгоритм\", \"статистика\", \"математический\", \"анализ\", \"машинный\", \"data\", \"математика\", \"нейронный\", \"алгебра\", \"геометрия\", \"матанализ\", \"algebra\"],\n",
    "    \"еств\": [\"химия\", \"биология\", \"физика\", \"анатомия\", \"bioinformatics\", \"биоинформатика\", \"chemistry\", \"physics\", \"химический\", \"астрономия\"],\n",
    "    \"команда\": ['команда', \"проект\", \"наставник\", \"smm\", \"jira\", \"skills\", \"спикер\", \"agile\"], \n",
    "    \"начинающий\": [\"введение\", \"основа\", \"introduction\", \"базовый\", \"начало\", \"beginner\", \"начинающий\"],\n",
    "    \"языки\": [\"русский\", \"английский\", \"english\", \"немецкий\", \"польский\", \"герб\", \"страна\", \"древнегреческий\", \"китайский\", \"ielts\", \"чешский\", \"японский\", \"французский\", \"russian\", \"language\"],\n",
    "    \"школа\": [\"класс\", \"егэ\", \"огэ\", \"школьный\", \"кл\", \"география\", \"fran\", \"pascal\", \"школьник\", \"обществознание\"],\n",
    "    \"пдд\": ['пдд', \"реанимация\"],\n",
    "    \"экономика\": [\"маркетинг\", \"экономика\", \"excel\", \"инвестор\", \"инвестиция\", \"менеджер\", \"проект\", \"менеджмент\", \"бизнесс\", \"реклама\", \"опцион\", \"skills\", \"business\", \"предпринимательство\", \"торговля\", \"финансовый\", \"экономический\", \"трейдинг\", \"микроэкономика\", \"рынок\", \"маркетинговый\", \"management\", \"стартап\"],\n",
    "    \"политика\": [\"политика\", \"история\", \"politics\", \"логика\", \"психология\", \"history\", \"право\", \"правоведение\", \"юриспрунденция\"]\n",
    "}"
   ]
  },
  {
   "cell_type": "code",
   "execution_count": 378,
   "metadata": {},
   "outputs": [],
   "source": [
    "X = np.array([x for x in data_vecs.vecs.to_numpy()])\n",
    "X = pd.DataFrame(X)\n",
    "X[\"программирование\"] = 0\n",
    "X[\"web\"] = 0\n",
    "X[\"бд\"] = 0\n",
    "X[\"3d\"] = 0\n",
    "X[\"статистика\"] = 0\n",
    "X[\"математика\"] = 0\n",
    "X[\"еств\"] = 0\n",
    "X[\"команда\"] = 0\n",
    "X[\"начинающий\"] = 0\n",
    "X[\"языки\"] = 0\n",
    "X[\"школа\"] = 0\n",
    "X[\"пдд\"] = 0\n",
    "X[\"экономика\"] = 0\n",
    "X[\"политика\"] = 0"
   ]
  },
  {
   "cell_type": "code",
   "execution_count": 379,
   "metadata": {},
   "outputs": [
    {
     "name": "stderr",
     "output_type": "stream",
     "text": [
      "100%|████████████████████████████████████████████████████████████████████████████| 1110/1110 [00:00<00:00, 2720.59it/s]\n"
     ]
    }
   ],
   "source": [
    "for i in tqdm(range(data_vecs.shape[0])):\n",
    "    text = data_vecs.loc[i, 'title_lem'].replace(\"-\", \"\").split()\n",
    "    for k in keys.keys():\n",
    "        for val in keys[k]:\n",
    "            if val in text:\n",
    "                X.loc[i, k] = 1\n",
    "            else:\n",
    "                continue"
   ]
  },
  {
   "cell_type": "code",
   "execution_count": 380,
   "metadata": {},
   "outputs": [],
   "source": [
    "from sklearn.cluster import KMeans\n",
    "km = KMeans(n_clusters=15, random_state=0)\n",
    "clust = km.fit(X).predict(X)\n",
    "data_vecs['cluster'] = clust"
   ]
  },
  {
   "cell_type": "code",
   "execution_count": 381,
   "metadata": {},
   "outputs": [
    {
     "data": {
      "text/html": [
       "<div>\n",
       "<style scoped>\n",
       "    .dataframe tbody tr th:only-of-type {\n",
       "        vertical-align: middle;\n",
       "    }\n",
       "\n",
       "    .dataframe tbody tr th {\n",
       "        vertical-align: top;\n",
       "    }\n",
       "\n",
       "    .dataframe thead th {\n",
       "        text-align: right;\n",
       "    }\n",
       "</style>\n",
       "<table border=\"1\" class=\"dataframe\">\n",
       "  <thead>\n",
       "    <tr style=\"text-align: right;\">\n",
       "      <th></th>\n",
       "      <th>id</th>\n",
       "    </tr>\n",
       "    <tr>\n",
       "      <th>cluster</th>\n",
       "      <th></th>\n",
       "    </tr>\n",
       "  </thead>\n",
       "  <tbody>\n",
       "    <tr>\n",
       "      <td>0</td>\n",
       "      <td>54</td>\n",
       "    </tr>\n",
       "    <tr>\n",
       "      <td>1</td>\n",
       "      <td>43</td>\n",
       "    </tr>\n",
       "    <tr>\n",
       "      <td>2</td>\n",
       "      <td>110</td>\n",
       "    </tr>\n",
       "    <tr>\n",
       "      <td>3</td>\n",
       "      <td>34</td>\n",
       "    </tr>\n",
       "    <tr>\n",
       "      <td>4</td>\n",
       "      <td>41</td>\n",
       "    </tr>\n",
       "    <tr>\n",
       "      <td>5</td>\n",
       "      <td>411</td>\n",
       "    </tr>\n",
       "    <tr>\n",
       "      <td>6</td>\n",
       "      <td>54</td>\n",
       "    </tr>\n",
       "    <tr>\n",
       "      <td>7</td>\n",
       "      <td>49</td>\n",
       "    </tr>\n",
       "    <tr>\n",
       "      <td>8</td>\n",
       "      <td>47</td>\n",
       "    </tr>\n",
       "    <tr>\n",
       "      <td>9</td>\n",
       "      <td>39</td>\n",
       "    </tr>\n",
       "    <tr>\n",
       "      <td>10</td>\n",
       "      <td>121</td>\n",
       "    </tr>\n",
       "    <tr>\n",
       "      <td>11</td>\n",
       "      <td>2</td>\n",
       "    </tr>\n",
       "    <tr>\n",
       "      <td>12</td>\n",
       "      <td>40</td>\n",
       "    </tr>\n",
       "    <tr>\n",
       "      <td>13</td>\n",
       "      <td>34</td>\n",
       "    </tr>\n",
       "    <tr>\n",
       "      <td>14</td>\n",
       "      <td>31</td>\n",
       "    </tr>\n",
       "  </tbody>\n",
       "</table>\n",
       "</div>"
      ],
      "text/plain": [
       "          id\n",
       "cluster     \n",
       "0         54\n",
       "1         43\n",
       "2        110\n",
       "3         34\n",
       "4         41\n",
       "5        411\n",
       "6         54\n",
       "7         49\n",
       "8         47\n",
       "9         39\n",
       "10       121\n",
       "11         2\n",
       "12        40\n",
       "13        34\n",
       "14        31"
      ]
     },
     "execution_count": 381,
     "metadata": {},
     "output_type": "execute_result"
    }
   ],
   "source": [
    "data_vecs.groupby('cluster').agg({\"id\": \"count\"})"
   ]
  },
  {
   "cell_type": "code",
   "execution_count": 382,
   "metadata": {},
   "outputs": [],
   "source": [
    "max_cluster = np.argmax(np.array(data_vecs.groupby('cluster').agg({\"id\": \"count\"}).id))\n",
    "sub_cl = data_vecs[data_vecs.cluster == max_cluster]"
   ]
  },
  {
   "cell_type": "code",
   "execution_count": 383,
   "metadata": {},
   "outputs": [
    {
     "name": "stderr",
     "output_type": "stream",
     "text": [
      "100%|████████████████████████████████████████████████████████████████████████████| 1110/1110 [00:00<00:00, 2713.95it/s]\n"
     ]
    }
   ],
   "source": [
    "for i in tqdm(range(data_vecs.shape[0])):\n",
    "    text = data_vecs.loc[i, 'title_lem'].replace(\"-\", \"\").split()\n",
    "    for k in keys.keys():\n",
    "        for val in keys[k]:\n",
    "            if val in text:\n",
    "                X.loc[i, k] = 1\n",
    "            else:\n",
    "                continue"
   ]
  },
  {
   "cell_type": "code",
   "execution_count": 402,
   "metadata": {},
   "outputs": [],
   "source": [
    "X3 = np.array([x for x in sub_cl.vecs.to_numpy()])"
   ]
  },
  {
   "cell_type": "code",
   "execution_count": 385,
   "metadata": {},
   "outputs": [
    {
     "name": "stderr",
     "output_type": "stream",
     "text": [
      "100%|██████████████████████████████████████████████████████████████████████████████| 411/411 [00:00<00:00, 1132.13it/s]\n"
     ]
    }
   ],
   "source": [
    "for i in tqdm(range(sub_cl.shape[0])):\n",
    "    text = data_vecs.reset_index().loc[i, 'title_lem'].replace(\"-\", \"\").split()\n",
    "    for k in keys.keys():\n",
    "        for val in keys[k]:\n",
    "            if val in text:\n",
    "                X3.loc[i, k] = 1\n",
    "            else:\n",
    "                continue"
   ]
  },
  {
   "cell_type": "code",
   "execution_count": 403,
   "metadata": {},
   "outputs": [
    {
     "data": {
      "text/plain": [
       "array([[ 0.04057591, -0.00155093, -0.00263742, ...,  0.01729428,\n",
       "        -0.02432947,  0.01335699],\n",
       "       [ 0.05170152,  0.01352578, -0.03196913, ...,  0.01677814,\n",
       "         0.02140688,  0.00283054],\n",
       "       [ 0.04890461, -0.03264511, -0.00181525, ..., -0.00886867,\n",
       "         0.00532931, -0.01510109],\n",
       "       ...,\n",
       "       [ 0.02903979, -0.04898526, -0.01487778, ..., -0.03519501,\n",
       "        -0.01512979,  0.00880668],\n",
       "       [ 0.00719093, -0.03264761, -0.03265078, ..., -0.06324895,\n",
       "        -0.01303423, -0.00493216],\n",
       "       [ 0.0098462 ,  0.01249994, -0.00127916, ..., -0.01587147,\n",
       "         0.00810701, -0.01928599]], dtype=float32)"
      ]
     },
     "execution_count": 403,
     "metadata": {},
     "output_type": "execute_result"
    }
   ],
   "source": [
    "X3"
   ]
  },
  {
   "cell_type": "code",
   "execution_count": 423,
   "metadata": {},
   "outputs": [
    {
     "name": "stderr",
     "output_type": "stream",
     "text": [
      "C:\\Anaconda\\lib\\site-packages\\ipykernel_launcher.py:5: SettingWithCopyWarning: \n",
      "A value is trying to be set on a copy of a slice from a DataFrame.\n",
      "Try using .loc[row_indexer,col_indexer] = value instead\n",
      "\n",
      "See the caveats in the documentation: http://pandas.pydata.org/pandas-docs/stable/user_guide/indexing.html#returning-a-view-versus-a-copy\n",
      "  \"\"\"\n"
     ]
    }
   ],
   "source": [
    "from sklearn.cluster import KMeans\n",
    "km = KMeans(n_clusters=8, random_state=0)\n",
    "clust = km.fit(X3).predict(X3)\n",
    "clust = [x + 14 if x != 0 else max_cluster for x in clust]\n",
    "sub_cl['cluster'] = clust "
   ]
  },
  {
   "cell_type": "code",
   "execution_count": 425,
   "metadata": {},
   "outputs": [
    {
     "data": {
      "text/html": [
       "<div>\n",
       "<style scoped>\n",
       "    .dataframe tbody tr th:only-of-type {\n",
       "        vertical-align: middle;\n",
       "    }\n",
       "\n",
       "    .dataframe tbody tr th {\n",
       "        vertical-align: top;\n",
       "    }\n",
       "\n",
       "    .dataframe thead th {\n",
       "        text-align: right;\n",
       "    }\n",
       "</style>\n",
       "<table border=\"1\" class=\"dataframe\">\n",
       "  <thead>\n",
       "    <tr style=\"text-align: right;\">\n",
       "      <th></th>\n",
       "      <th>id</th>\n",
       "      <th>vecs</th>\n",
       "      <th>title_lem</th>\n",
       "      <th>title</th>\n",
       "      <th>cluster_x</th>\n",
       "      <th>cluster_y</th>\n",
       "    </tr>\n",
       "  </thead>\n",
       "  <tbody>\n",
       "    <tr>\n",
       "      <td>0</td>\n",
       "      <td>71155</td>\n",
       "      <td>[0.040575914, -0.0015509333, -0.0026374192, 0....</td>\n",
       "      <td>обучение наставник</td>\n",
       "      <td>обучение наставников</td>\n",
       "      <td>5</td>\n",
       "      <td>21.0</td>\n",
       "    </tr>\n",
       "    <tr>\n",
       "      <td>1</td>\n",
       "      <td>70810</td>\n",
       "      <td>[0.051701516, 0.01352578, -0.03196913, -0.0175...</td>\n",
       "      <td>формула образование школа ученик родитель учитель</td>\n",
       "      <td>формула образования школа ученик родитель учитель</td>\n",
       "      <td>5</td>\n",
       "      <td>15.0</td>\n",
       "    </tr>\n",
       "    <tr>\n",
       "      <td>2</td>\n",
       "      <td>70727</td>\n",
       "      <td>[-0.008824989, 0.009678719, -0.035922557, -0.1...</td>\n",
       "      <td>егэ нормальный вариант</td>\n",
       "      <td>егэ по русскому нормальные варианты</td>\n",
       "      <td>4</td>\n",
       "      <td>NaN</td>\n",
       "    </tr>\n",
       "    <tr>\n",
       "      <td>3</td>\n",
       "      <td>70710</td>\n",
       "      <td>[0.021721235, -0.028371545, 0.040372066, -0.01...</td>\n",
       "      <td>свободный погружение субд</td>\n",
       "      <td>свободное погружение в субд</td>\n",
       "      <td>10</td>\n",
       "      <td>NaN</td>\n",
       "    </tr>\n",
       "    <tr>\n",
       "      <td>4</td>\n",
       "      <td>70581</td>\n",
       "      <td>[0.048904613, -0.03264511, -0.0018152483, 0.02...</td>\n",
       "      <td>набирать адаптировать команда удаленщик отдел ...</td>\n",
       "      <td>как набрать и адаптировать команду удаленщиков...</td>\n",
       "      <td>5</td>\n",
       "      <td>16.0</td>\n",
       "    </tr>\n",
       "    <tr>\n",
       "      <td>...</td>\n",
       "      <td>...</td>\n",
       "      <td>...</td>\n",
       "      <td>...</td>\n",
       "      <td>...</td>\n",
       "      <td>...</td>\n",
       "      <td>...</td>\n",
       "    </tr>\n",
       "    <tr>\n",
       "      <td>1105</td>\n",
       "      <td>71439</td>\n",
       "      <td>[0.0098860655, -0.024736546, -0.0103480425, 0....</td>\n",
       "      <td>машинный обучение управление проект преподаватель</td>\n",
       "      <td>машинное обучение и управление проектами в it ...</td>\n",
       "      <td>9</td>\n",
       "      <td>NaN</td>\n",
       "    </tr>\n",
       "    <tr>\n",
       "      <td>1106</td>\n",
       "      <td>68789</td>\n",
       "      <td>[0.0043830727, -0.010762613, -0.038223244, 0.0...</td>\n",
       "      <td>алгоритмика класс</td>\n",
       "      <td>алгоритмика 5 класс</td>\n",
       "      <td>6</td>\n",
       "      <td>NaN</td>\n",
       "    </tr>\n",
       "    <tr>\n",
       "      <td>1107</td>\n",
       "      <td>67676</td>\n",
       "      <td>[0.027963763, -0.006683477, -0.055727765, 0.00...</td>\n",
       "      <td>биология класс</td>\n",
       "      <td>биология 7 класс</td>\n",
       "      <td>6</td>\n",
       "      <td>NaN</td>\n",
       "    </tr>\n",
       "    <tr>\n",
       "      <td>1108</td>\n",
       "      <td>58873</td>\n",
       "      <td>[0.048682958, -0.10210681, 0.038794607, -0.002...</td>\n",
       "      <td>основа компьютерный сеть</td>\n",
       "      <td>основы компьютерных сетей</td>\n",
       "      <td>2</td>\n",
       "      <td>NaN</td>\n",
       "    </tr>\n",
       "    <tr>\n",
       "      <td>1109</td>\n",
       "      <td>51900</td>\n",
       "      <td>[0.11901402, -0.08921623, 0.04920157, -0.01059...</td>\n",
       "      <td>введение ios - разработка</td>\n",
       "      <td>курс 1 введение в ios-разработку</td>\n",
       "      <td>7</td>\n",
       "      <td>NaN</td>\n",
       "    </tr>\n",
       "  </tbody>\n",
       "</table>\n",
       "<p>1110 rows × 6 columns</p>\n",
       "</div>"
      ],
      "text/plain": [
       "         id                                               vecs  \\\n",
       "0     71155  [0.040575914, -0.0015509333, -0.0026374192, 0....   \n",
       "1     70810  [0.051701516, 0.01352578, -0.03196913, -0.0175...   \n",
       "2     70727  [-0.008824989, 0.009678719, -0.035922557, -0.1...   \n",
       "3     70710  [0.021721235, -0.028371545, 0.040372066, -0.01...   \n",
       "4     70581  [0.048904613, -0.03264511, -0.0018152483, 0.02...   \n",
       "...     ...                                                ...   \n",
       "1105  71439  [0.0098860655, -0.024736546, -0.0103480425, 0....   \n",
       "1106  68789  [0.0043830727, -0.010762613, -0.038223244, 0.0...   \n",
       "1107  67676  [0.027963763, -0.006683477, -0.055727765, 0.00...   \n",
       "1108  58873  [0.048682958, -0.10210681, 0.038794607, -0.002...   \n",
       "1109  51900  [0.11901402, -0.08921623, 0.04920157, -0.01059...   \n",
       "\n",
       "                                              title_lem  \\\n",
       "0                                    обучение наставник   \n",
       "1     формула образование школа ученик родитель учитель   \n",
       "2                                егэ нормальный вариант   \n",
       "3                             свободный погружение субд   \n",
       "4     набирать адаптировать команда удаленщик отдел ...   \n",
       "...                                                 ...   \n",
       "1105  машинный обучение управление проект преподаватель   \n",
       "1106                                  алгоритмика класс   \n",
       "1107                                     биология класс   \n",
       "1108                           основа компьютерный сеть   \n",
       "1109                          введение ios - разработка   \n",
       "\n",
       "                                                  title  cluster_x  cluster_y  \n",
       "0                                  обучение наставников          5       21.0  \n",
       "1     формула образования школа ученик родитель учитель          5       15.0  \n",
       "2                   егэ по русскому нормальные варианты          4        NaN  \n",
       "3                           свободное погружение в субд         10        NaN  \n",
       "4     как набрать и адаптировать команду удаленщиков...          5       16.0  \n",
       "...                                                 ...        ...        ...  \n",
       "1105  машинное обучение и управление проектами в it ...          9        NaN  \n",
       "1106                                алгоритмика 5 класс          6        NaN  \n",
       "1107                                   биология 7 класс          6        NaN  \n",
       "1108                          основы компьютерных сетей          2        NaN  \n",
       "1109                   курс 1 введение в ios-разработку          7        NaN  \n",
       "\n",
       "[1110 rows x 6 columns]"
      ]
     },
     "execution_count": 425,
     "metadata": {},
     "output_type": "execute_result"
    }
   ],
   "source": [
    "data_vecs.merge(sub_cl[['id', 'cluster']], on='id', how='left')"
   ]
  },
  {
   "cell_type": "code",
   "execution_count": 430,
   "metadata": {},
   "outputs": [
    {
     "data": {
      "text/plain": [
       "5"
      ]
     },
     "execution_count": 430,
     "metadata": {},
     "output_type": "execute_result"
    }
   ],
   "source": [
    "max_cluster"
   ]
  },
  {
   "cell_type": "code",
   "execution_count": 438,
   "metadata": {},
   "outputs": [],
   "source": [
    "new = data_vecs.merge(sub_cl[['id', 'cluster']], on='id', how='left')\n",
    "for i in range(new.shape[0]):\n",
    "    #print(new.loc[i, \"cluster_x\"])\n",
    "    if new.loc[i, \"cluster_x\"] == max_cluster:\n",
    "        new.loc[i, \"cluster_x\"] = int(new.loc[i, \"cluster_y\"])\n",
    "        #print(new.loc[i, \"cluster_y\"])"
   ]
  },
  {
   "cell_type": "code",
   "execution_count": 441,
   "metadata": {},
   "outputs": [],
   "source": [
    "new[['id', 'title', 'cluster_x']].to_csv(\"clusters.csv\")"
   ]
  }
 ],
 "metadata": {
  "kernelspec": {
   "display_name": "Python 3",
   "language": "python",
   "name": "python3"
  },
  "language_info": {
   "codemirror_mode": {
    "name": "ipython",
    "version": 3
   },
   "file_extension": ".py",
   "mimetype": "text/x-python",
   "name": "python",
   "nbconvert_exporter": "python",
   "pygments_lexer": "ipython3",
   "version": "3.7.4"
  }
 },
 "nbformat": 4,
 "nbformat_minor": 4
}